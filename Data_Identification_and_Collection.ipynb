{
 "cells": [
  {
   "cell_type": "markdown",
   "id": "f40df633",
   "metadata": {},
   "source": [
    "# COMP47670 | Assignment 1 | 19342403 | Task 1 | Data Identification and Collection"
   ]
  },
  {
   "cell_type": "markdown",
   "id": "700b80ab",
   "metadata": {},
   "source": [
    "## API Name: WHO Global Health Observatory "
   ]
  },
  {
   "cell_type": "markdown",
   "id": "b362455f",
   "metadata": {},
   "source": [
    "In this assignment, data will be collected from the [World Health Organisation Global Health Observatory (GHO) API](https://www.who.int/data/gho/info/gho-odata-api). Python is used to prepare, analyse and derive insights from the collected data. The GHO is an expansive database that provides access to a wide range of health-related indicators for 194 WHO member states. This assignment will pull data for the following health-related indicators:\n",
    "* Alcohol, total per capita (15+) consumption (in litres of pure alcohol) (SDG Indicator 3.5.2)\n",
    "* Mean Non-HDL cholesterol, age-standardized\n",
    "* Domestic general government health expenditure (GGHE-D) as percentage of gross domestic product (GDP) (%)\n",
    "* Prevalence of hypertension among adults aged 30-79 years, age-standardized\n",
    "* Life expectancy at birth (years)\n",
    "* Age-standardized NCD mortality rate (per 100 000 population)\n",
    "* Prevalence of obesity among adults, BMI &GreaterEqual; 30 (age-standardized estimate) (%)\n",
    "* Estimate of current tobacco use prevalence (%) (age-standardized rate)"
   ]
  },
  {
   "cell_type": "markdown",
   "id": "fdd4c46a",
   "metadata": {},
   "source": [
    "The alcohol consumption data represents the total alcohol consumption in litres of pure alcohol over a calendar year for people aged 15 and above. "
   ]
  },
  {
   "cell_type": "markdown",
   "id": "f9530f3b",
   "metadata": {},
   "source": [
    "The following libraries will be used in Task 1:"
   ]
  },
  {
   "cell_type": "code",
   "execution_count": 319,
   "id": "708c6a6a",
   "metadata": {},
   "outputs": [],
   "source": [
    "import urllib, json, requests\n",
    "import pandas as pd\n",
    "from json import JSONDecodeError\n",
    "from pathlib import Path"
   ]
  },
  {
   "cell_type": "markdown",
   "id": "1d1b654a",
   "metadata": {},
   "source": [
    "The below code assigns the API prefix and the directories for storage of the indicator data and the background information. The background information includes mapping of country codes to country names and regions, along with mapping indicator codes to indicator names."
   ]
  },
  {
   "cell_type": "code",
   "execution_count": 320,
   "id": "66a074e9",
   "metadata": {},
   "outputs": [],
   "source": [
    "# Prefix for API URLs\n",
    "api_prefix = 'https://ghoapi.azureedge.net/api/'\n",
    "\n",
    "indicator_dir = Path('assignment_1_indicator_data')\n",
    "indicator_dir.mkdir(parents=True, exist_ok=True)\n",
    "\n",
    "info_dir = Path('assignment_1_information_data')\n",
    "info_dir.mkdir(parents=True, exist_ok = True)"
   ]
  },
  {
   "cell_type": "markdown",
   "id": "3e3ef111",
   "metadata": {},
   "source": [
    "## Data Collection"
   ]
  },
  {
   "cell_type": "markdown",
   "id": "25000dd7",
   "metadata": {},
   "source": [
    "A function is defined to retrieve data from the API. This JSON data is then loaded into a python object. "
   ]
  },
  {
   "cell_type": "code",
   "execution_count": 321,
   "id": "b2b4b5d3",
   "metadata": {},
   "outputs": [],
   "source": [
    "# Fetch function will construct the url and return the data associated with that url \n",
    "def fetch(endpoint, filter_str = \"\"):\n",
    "    try:\n",
    "        # Construct url with or without filters\n",
    "        if filter_str:\n",
    "            url  = api_prefix + endpoint + '?$filter=' + filter_str\n",
    "        else:\n",
    "            url = api_prefix + endpoint\n",
    "    except TypeError:\n",
    "        print(\"Invalid indicator name\")\n",
    "        return\n",
    "    print(f'Fetching {url}')\n",
    "    \n",
    "    # Request the API\n",
    "    response = requests.get(url)\n",
    "    raw_json = response.text\n",
    "    \n",
    "    # Load the JSON data into a python object and return the data\n",
    "    try:\n",
    "        data = json.loads(raw_json)\n",
    "        value_list = data['value']\n",
    "    except JSONDecodeError:\n",
    "        return\n",
    "    except KeyError:\n",
    "        print('Invalid url extension')\n",
    "        return\n",
    "    return value_list\n"
   ]
  },
  {
   "cell_type": "markdown",
   "id": "b36e6c93",
   "metadata": {},
   "source": [
    "The API associates a unique code to every indicator. The get_indicator_code function allows the retrieval of the indicator code when given the indicator name in question. This indicator code is needed to access information about the indicator. "
   ]
  },
  {
   "cell_type": "code",
   "execution_count": 322,
   "id": "f720a835",
   "metadata": {},
   "outputs": [],
   "source": [
    "# Create function to get the indicator code from the indicator name\n",
    "def get_indicator_code(indicator_name):\n",
    "    # Fetch the indicator information data\n",
    "    indicator_list = fetch('Indicator')\n",
    "    \n",
    "    # Enumerate through the indicator information until a match for the indicator name is found\n",
    "    for idx, value in enumerate(indicator_list):\n",
    "        if indicator_list[idx]['IndicatorName'].lower() == indicator_name.lower():\n",
    "            \n",
    "            # Assign the indicator code\n",
    "            code = indicator_list[idx]['IndicatorCode']\n",
    "            print(f'Found match for {indicator_name}: Code = {code}')\n",
    "            return code\n",
    "    return\n",
    "    "
   ]
  },
  {
   "cell_type": "markdown",
   "id": "c1666d48",
   "metadata": {},
   "source": [
    "The below function fetches the data from the API and creates a raw JSON file with that data. This file is then saved in the directory that is passed as a parameter to the function call. "
   ]
  },
  {
   "cell_type": "code",
   "execution_count": 323,
   "id": "7b2ba405",
   "metadata": {},
   "outputs": [],
   "source": [
    "# Create function to get data for an indicator and save it in a JSON file\n",
    "def create_file (directory, file_name, endpoint, filter_str=\"\"):\n",
    "    # The indicator data is retrieved\n",
    "    try:\n",
    "        data = fetch(endpoint, filter_str)\n",
    "    except TypeError:\n",
    "        print(\"Invalid file name\")\n",
    "        return\n",
    "    \n",
    "    # The file name and output path is created\n",
    "    file_name = f'{file_name}.json'\n",
    "    out_path = directory / file_name\n",
    "    \n",
    "    # The indicator file is then created with the indicator data. This file is saved to the indicator directory. \n",
    "    with open(out_path, 'w') as fout:\n",
    "        if data:\n",
    "            print(f'Writing data to {out_path}')\n",
    "            json.dump(data, fout, indent=4)\n",
    "        else:\n",
    "            print(\"Data is null\")\n",
    "            return\n"
   ]
  },
  {
   "cell_type": "markdown",
   "id": "7d02652f",
   "metadata": {},
   "source": [
    "As stated earlier, the information files are needed to map country codes to country names and regions, and indicator codes to indicator names. Here two files are created, one with the country information and one with the indicator information. "
   ]
  },
  {
   "cell_type": "code",
   "execution_count": 324,
   "id": "52d5b23e",
   "metadata": {},
   "outputs": [
    {
     "name": "stdout",
     "output_type": "stream",
     "text": [
      "Fetching https://ghoapi.azureedge.net/api/DIMENSION/COUNTRY/DimensionValues\n",
      "Writing data to assignment_1_information_data\\Country Information.json\n",
      "Fetching https://ghoapi.azureedge.net/api/Indicator\n",
      "Writing data to assignment_1_information_data\\Indicator Information.json\n"
     ]
    }
   ],
   "source": [
    "create_file(info_dir, \"Country Information\", \"DIMENSION/COUNTRY/DimensionValues\")\n",
    "create_file(info_dir, \"Indicator Information\", \"Indicator\")"
   ]
  },
  {
   "cell_type": "markdown",
   "id": "fd2812de",
   "metadata": {},
   "source": [
    "Then the create_indicator_file function is called to create a file containing the data specific to an indicator that is to be studied. "
   ]
  },
  {
   "cell_type": "code",
   "execution_count": 325,
   "id": "6c35ecf5",
   "metadata": {
    "scrolled": false
   },
   "outputs": [
    {
     "name": "stdout",
     "output_type": "stream",
     "text": [
      "Fetching https://ghoapi.azureedge.net/api/Indicator\n",
      "Found match for Domestic general government health expenditure (GGHE-D) as percentage of gross domestic product (GDP) (%): Code = GHED_GGHE-DGDP_SHA2011\n",
      "Fetching https://ghoapi.azureedge.net/api/GHED_GGHE-DGDP_SHA2011\n",
      "Writing data to assignment_1_indicator_data\\Health Expenditure.json\n",
      "Fetching https://ghoapi.azureedge.net/api/Indicator\n",
      "Found match for Life expectancy at birth (years): Code = WHOSIS_000001\n",
      "Fetching https://ghoapi.azureedge.net/api/WHOSIS_000001?$filter=Dim1 eq 'SEX_BTSX'\n",
      "Writing data to assignment_1_indicator_data\\Life Expectancy.json\n",
      "Fetching https://ghoapi.azureedge.net/api/Indicator\n",
      "Found match for Age-standardized NCD mortality rate  (per 100 000 population): Code = WHS2_131\n",
      "Fetching https://ghoapi.azureedge.net/api/WHS2_131?$filter=DIM1 eq 'SEX_BTSX'\n",
      "Writing data to assignment_1_indicator_data\\Non-communicable Disease Mortality Rate.json\n",
      "Fetching https://ghoapi.azureedge.net/api/Indicator\n",
      "Found match for Prevalence of obesity among adults, BMI &GreaterEqual; 30 (age-standardized estimate) (%): Code = NCD_BMI_30A\n",
      "Fetching https://ghoapi.azureedge.net/api/NCD_BMI_30A?$filter=DIM1 eq 'SEX_BTSX'\n",
      "Writing data to assignment_1_indicator_data\\Obesity.json\n",
      "Fetching https://ghoapi.azureedge.net/api/Indicator\n",
      "Found match for Alcohol, total per capita (15+) consumption (in litres of pure alcohol) (SDG Indicator 3.5.2): Code = SA_0000001688\n",
      "Fetching https://ghoapi.azureedge.net/api/SA_0000001688?$filter=DIM1 eq 'SEX_BTSX'\n",
      "Writing data to assignment_1_indicator_data\\Alcohol Consumption.json\n",
      "Fetching https://ghoapi.azureedge.net/api/Indicator\n",
      "Found match for Prevalence of hypertension among adults aged 30-79 years, age-standardized: Code = NCD_HYP_PREVALENCE_A\n",
      "Fetching https://ghoapi.azureedge.net/api/NCD_HYP_PREVALENCE_A?$filter=DIM1 eq 'SEX_BTSX'\n",
      "Writing data to assignment_1_indicator_data\\Hypertension.json\n",
      "Fetching https://ghoapi.azureedge.net/api/Indicator\n",
      "Found match for Mean Non-HDL cholesterol, age-standardized: Code = NCD_CHOL_MEANNONHDL_A\n",
      "Fetching https://ghoapi.azureedge.net/api/NCD_CHOL_MEANNONHDL_A?$filter=DIM1 eq 'SEX_BTSX'\n",
      "Writing data to assignment_1_indicator_data\\Cholesterol.json\n",
      "Fetching https://ghoapi.azureedge.net/api/Indicator\n",
      "Found match for Estimate of current tobacco use prevalence (%) (age-standardized rate): Code = M_Est_tob_curr_std\n",
      "Fetching https://ghoapi.azureedge.net/api/M_Est_tob_curr_std?$filter=DIM1 eq 'SEX_BTSX'\n",
      "Writing data to assignment_1_indicator_data\\Tobacco Use.json\n"
     ]
    }
   ],
   "source": [
    "create_file(indicator_dir, 'Health Expenditure', get_indicator_code('Domestic general government health expenditure (GGHE-D) as percentage of gross domestic product (GDP) (%)'))\n",
    "create_file(indicator_dir, 'Life Expectancy', get_indicator_code('Life expectancy at birth (years)'), \"Dim1 eq 'SEX_BTSX'\")\n",
    "create_file(indicator_dir, 'Non-communicable Disease Mortality Rate', get_indicator_code('Age-standardized NCD mortality rate  (per 100 000 population)'), \"DIM1 eq 'SEX_BTSX'\")\n",
    "create_file(indicator_dir, 'Obesity',get_indicator_code('Prevalence of obesity among adults, BMI &GreaterEqual; 30 (age-standardized estimate) (%)'), \"DIM1 eq 'SEX_BTSX'\")\n",
    "create_file(indicator_dir, 'Alcohol Consumption', get_indicator_code('Alcohol, total per capita (15+) consumption (in litres of pure alcohol) (SDG Indicator 3.5.2)'), \"DIM1 eq 'SEX_BTSX'\")\n",
    "create_file(indicator_dir, 'Hypertension',get_indicator_code('Prevalence of hypertension among adults aged 30-79 years, age-standardized'), \"DIM1 eq 'SEX_BTSX'\")\n",
    "create_file(indicator_dir, 'Cholesterol',get_indicator_code('Mean Non-HDL cholesterol, age-standardized'),  \"DIM1 eq 'SEX_BTSX'\")\n",
    "create_file(indicator_dir, 'Tobacco Use',get_indicator_code('Estimate of current tobacco use prevalence (%) (age-standardized rate)'), \"DIM1 eq 'SEX_BTSX'\")"
   ]
  }
 ],
 "metadata": {
  "kernelspec": {
   "display_name": "Python 3 (ipykernel)",
   "language": "python",
   "name": "python3"
  },
  "language_info": {
   "codemirror_mode": {
    "name": "ipython",
    "version": 3
   },
   "file_extension": ".py",
   "mimetype": "text/x-python",
   "name": "python",
   "nbconvert_exporter": "python",
   "pygments_lexer": "ipython3",
   "version": "3.11.5"
  }
 },
 "nbformat": 4,
 "nbformat_minor": 5
}
